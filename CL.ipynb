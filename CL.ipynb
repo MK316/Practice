{
  "nbformat": 4,
  "nbformat_minor": 0,
  "metadata": {
    "colab": {
      "name": "CL.ipynb",
      "provenance": [],
      "collapsed_sections": [],
      "mount_file_id": "https://github.com/junkyuhufs/Practice/blob/main/CL.ipynb",
      "authorship_tag": "ABX9TyPYLT8pDmHRKjK9CemT6FNk",
      "include_colab_link": true
    },
    "kernelspec": {
      "name": "python3",
      "display_name": "Python 3"
    },
    "language_info": {
      "name": "python"
    },
    "accelerator": "GPU"
  },
  "cells": [
    {
      "cell_type": "markdown",
      "metadata": {
        "id": "view-in-github",
        "colab_type": "text"
      },
      "source": [
        "<a href=\"https://colab.research.google.com/github/junkyuhufs/Practice/blob/main/CL.ipynb\" target=\"_parent\"><img src=\"https://colab.research.google.com/assets/colab-badge.svg\" alt=\"Open In Colab\"/></a>"
      ]
    },
    {
      "cell_type": "markdown",
      "source": [
        "Corpus Lingusitics Practice\n",
        "Kyle 홈피 \n",
        "### https://github.com/kristopherkyle/corpus_toolkit"
      ],
      "metadata": {
        "id": "rRbdChWnE9Ax"
      }
    },
    {
      "cell_type": "markdown",
      "source": [
        "데이터 마운트"
      ],
      "metadata": {
        "id": "m0clWKVKMH-g"
      }
    },
    {
      "cell_type": "markdown",
      "source": [
        "corpus-toolkit설치"
      ],
      "metadata": {
        "id": "A2s801kA0FAZ"
      }
    },
    {
      "cell_type": "code",
      "source": [
        "pip install corpus-toolkit"
      ],
      "metadata": {
        "id": "cB4MCwPf0JIS",
        "colab": {
          "base_uri": "https://localhost:8080/"
        },
        "outputId": "5c311412-2066-49b2-cf36-5a4765d709d2"
      },
      "execution_count": 34,
      "outputs": [
        {
          "output_type": "stream",
          "name": "stdout",
          "text": [
            "Requirement already satisfied: corpus-toolkit in /usr/local/lib/python3.7/dist-packages (0.32)\n"
          ]
        }
      ]
    },
    {
      "cell_type": "markdown",
      "source": [
        "에러발생 제거"
      ],
      "metadata": {
        "id": "O16O_BWv0PEg"
      }
    },
    {
      "cell_type": "code",
      "source": [
        "!pip install spacytextblob\n",
        "!python -m textblob.download_corpora\n",
        "!python -m spacy download en_core_web_sm"
      ],
      "metadata": {
        "id": "p-yU04xBLab0"
      },
      "execution_count": null,
      "outputs": []
    },
    {
      "cell_type": "markdown",
      "source": [
        "Load, tokenize, and generate a frequency list"
      ],
      "metadata": {
        "id": "rGq8EQVgGNcQ"
      }
    },
    {
      "cell_type": "code",
      "source": [
        "from corpus_toolkit import corpus_tools as ct"
      ],
      "metadata": {
        "id": "Fr5B1zKpP0fr"
      },
      "execution_count": 36,
      "outputs": []
    },
    {
      "cell_type": "code",
      "source": [
        "brown_corp = ct.ldcorpus(\"brown_single\") #load and read corpus"
      ],
      "metadata": {
        "id": "wK1_y1EyQQi_"
      },
      "execution_count": 40,
      "outputs": []
    },
    {
      "cell_type": "code",
      "source": [
        "tok_corp = ct.tokenize(brown_corp) #tokenize corpus - by default this lemmatizes as well"
      ],
      "metadata": {
        "id": "Tp_Hx5lzQPcF"
      },
      "execution_count": 41,
      "outputs": []
    },
    {
      "cell_type": "code",
      "source": [
        "brown_freq = ct.frequency(tok_corp) #creates a frequency dictionary\n",
        "#note that range can be calculated instead of frequency using the argument calc = \"range\""
      ],
      "metadata": {
        "id": "-2uN6uCaQZXU"
      },
      "execution_count": null,
      "outputs": []
    },
    {
      "cell_type": "code",
      "source": [
        "ct.head(brown_freq, hits = 10) #print top 10 items"
      ],
      "metadata": {
        "id": "7RqVK5IdQkDz"
      },
      "execution_count": 43,
      "outputs": []
    },
    {
      "cell_type": "code",
      "source": [
        "brown_freq = ct.frequency(ct.tokenize(ct.ldcorpus(\"brown_single\")))\n",
        "ct.head(brown_freq, hits = 10)"
      ],
      "metadata": {
        "id": "YjCJs3AIQyPP"
      },
      "execution_count": null,
      "outputs": []
    },
    {
      "cell_type": "markdown",
      "source": [
        "Concordance"
      ],
      "metadata": {
        "id": "eIhVSSpLRuRi"
      }
    },
    {
      "cell_type": "code",
      "source": [
        "conc_results1 = ct.concord(ct.tokenize(ct.ldcorpus(\"brown_single\"),lemma = False),[\"run\",\"ran\",\"running\",\"runs\"],nhits = 10)\n",
        "for x in conc_results1:\n",
        "\tprint(x)"
      ],
      "metadata": {
        "id": "DFv_CzxbRj-w"
      },
      "execution_count": null,
      "outputs": []
    }
  ]
}