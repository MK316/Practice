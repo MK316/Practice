{
  "nbformat": 4,
  "nbformat_minor": 0,
  "metadata": {
    "colab": {
      "name": "CL.ipynb",
      "provenance": [],
      "collapsed_sections": [],
      "authorship_tag": "ABX9TyNilTpsHJHyBkRloE1io9WI",
      "include_colab_link": true
    },
    "kernelspec": {
      "name": "python3",
      "display_name": "Python 3"
    },
    "language_info": {
      "name": "python"
    },
    "accelerator": "GPU"
  },
  "cells": [
    {
      "cell_type": "markdown",
      "metadata": {
        "id": "view-in-github",
        "colab_type": "text"
      },
      "source": [
        "<a href=\"https://colab.research.google.com/github/junkyuhufs/Practice/blob/main/CL.ipynb\" target=\"_parent\"><img src=\"https://colab.research.google.com/assets/colab-badge.svg\" alt=\"Open In Colab\"/></a>"
      ]
    },
    {
      "cell_type": "markdown",
      "source": [
        "### Corpus Lingusitics Practice\n",
        "\n",
        "based on Kyle 홈피 \n",
        "https://github.com/kristopherkyle/corpus_toolkit"
      ],
      "metadata": {
        "id": "rRbdChWnE9Ax"
      }
    },
    {
      "cell_type": "markdown",
      "source": [
        "분석용 Zip파일 올리기\n",
        "\n",
        "zip파일 colab에 직접업로드 후 > 파일경로 확인후 upzip"
      ],
      "metadata": {
        "id": "m0clWKVKMH-g"
      }
    },
    {
      "cell_type": "code",
      "source": [
        "!unzip -qq \"/content/brown_single.zip\""
      ],
      "metadata": {
        "id": "qDE1D4oUdKpZ"
      },
      "execution_count": null,
      "outputs": []
    },
    {
      "cell_type": "markdown",
      "source": [
        "corpus-toolkit설치"
      ],
      "metadata": {
        "id": "A2s801kA0FAZ"
      }
    },
    {
      "cell_type": "code",
      "source": [
        "pip install corpus-toolkit"
      ],
      "metadata": {
        "id": "cB4MCwPf0JIS"
      },
      "execution_count": null,
      "outputs": []
    },
    {
      "cell_type": "markdown",
      "source": [
        "에러발생 제거"
      ],
      "metadata": {
        "id": "O16O_BWv0PEg"
      }
    },
    {
      "cell_type": "code",
      "source": [
        "!pip install spacytextblob\n",
        "!python -m textblob.download_corpora\n",
        "!python -m spacy download en_core_web_sm"
      ],
      "metadata": {
        "id": "p-yU04xBLab0"
      },
      "execution_count": null,
      "outputs": []
    },
    {
      "cell_type": "markdown",
      "source": [
        "Load, tokenize, and generate a frequency list"
      ],
      "metadata": {
        "id": "rGq8EQVgGNcQ"
      }
    },
    {
      "cell_type": "code",
      "source": [
        "from corpus_toolkit import corpus_tools as ct\n",
        "brown_corp = ct.ldcorpus(\"brown_single\") #load and read corpus\n",
        "tok_corp = ct.tokenize(brown_corp) #tokenize corpus - by default this lemmatizes as well\n",
        "brown_freq = ct.frequency(tok_corp) #creates a frequency dictionary\n",
        "#note that range can be calculated instead of frequency using the argument calc = \"range\""
      ],
      "metadata": {
        "id": "XvP_eC5bh8Yu"
      },
      "execution_count": null,
      "outputs": []
    },
    {
      "cell_type": "code",
      "source": [
        "ct.head(brown_freq, hits = 10) #print top 10 items"
      ],
      "metadata": {
        "id": "7RqVK5IdQkDz"
      },
      "execution_count": null,
      "outputs": []
    },
    {
      "cell_type": "markdown",
      "source": [
        "Another way:  ldcorpus() and tokenize() 이용"
      ],
      "metadata": {
        "id": "bjRHJhMaijcG"
      }
    },
    {
      "cell_type": "code",
      "source": [
        "brown_freq = ct.frequency(ct.tokenize(ct.ldcorpus(\"brown_single\")))"
      ],
      "metadata": {
        "id": "YjCJs3AIQyPP"
      },
      "execution_count": null,
      "outputs": []
    },
    {
      "cell_type": "code",
      "source": [
        "ct.head(brown_freq, hits = 10)"
      ],
      "metadata": {
        "id": "Dd7MKOwQi0xB"
      },
      "execution_count": null,
      "outputs": []
    },
    {
      "cell_type": "markdown",
      "source": [
        "##Concordance"
      ],
      "metadata": {
        "id": "eIhVSSpLRuRi"
      }
    },
    {
      "cell_type": "markdown",
      "source": [
        "Generate concordance lines: concord 함수이용; 25개 램덤샘플 (예. run/ran/running/runs)"
      ],
      "metadata": {
        "id": "kp1S-rwKjH9p"
      }
    },
    {
      "cell_type": "code",
      "source": [
        "conc_results1 = ct.concord(ct.tokenize(ct.ldcorpus(\"brown_single\"),lemma = False),[\"run\",\"ran\",\"running\",\"runs\"],nhits = 10)\n",
        "for x in conc_results1:\n",
        "\tprint(x)"
      ],
      "metadata": {
        "id": "DFv_CzxbRj-w"
      },
      "execution_count": null,
      "outputs": []
    },
    {
      "cell_type": "markdown",
      "source": [
        "Generate concordance lines: collocation search추가 (예. run/ran/running/runs + quick/quickly)"
      ],
      "metadata": {
        "id": "BI-SNEzwhHZR"
      }
    },
    {
      "cell_type": "code",
      "source": [
        "conc_results2 = ct.concord(ct.tokenize(ct.ldcorpus(\"brown_single\"),lemma = False),[\"run\",\"ran\",\"running\",\"runs\"],collocates = [\"quick\",\"quickly\"], nhits = 10)\n",
        "for x in conc_results2:\n",
        "\tprint(x)"
      ],
      "metadata": {
        "id": "XW0hplbHj2rx"
      },
      "execution_count": null,
      "outputs": []
    },
    {
      "cell_type": "markdown",
      "source": [
        "정규식표현을 이용한 concordance 및 collocation 찾기"
      ],
      "metadata": {
        "id": "iSKqYKNbkTDV"
      }
    },
    {
      "cell_type": "code",
      "source": [
        "conc_results3 = ct.concord(ct.tokenize(ct.ldcorpus(\"brown_single\"),lemma = False),[\"run.*\",\"ran\"],collocates = [\"quick.*\"], nhits = 10, regex = True)\n",
        "for x in conc_results3:\n",
        "\tprint(x)"
      ],
      "metadata": {
        "id": "zfH_3ZRHkgKP"
      },
      "execution_count": null,
      "outputs": []
    },
    {
      "cell_type": "markdown",
      "source": [
        "concordance 텍스트파일로 저장"
      ],
      "metadata": {
        "id": "DiMarto7kkpS"
      }
    },
    {
      "cell_type": "code",
      "source": [
        "#write concordance lines to a file called \"run_25.txt\"\n",
        "conc_results4 = ct.concord(ct.tokenize(ct.ldcorpus(\"brown_single\"),lemma = False),[\"run\",\"ran\",\"running\",\"runs\"], outname = \"run_25.txt\")"
      ],
      "metadata": {
        "id": "K7t4jzf8kvYB"
      },
      "execution_count": null,
      "outputs": []
    },
    {
      "cell_type": "markdown",
      "source": [
        "##Create a tagged version of your corpus"
      ],
      "metadata": {
        "id": "5oE1v1cokxrN"
      }
    },
    {
      "cell_type": "markdown",
      "source": [
        "2단계로 진행: tagged 코퍼스 먼저 생성 > 그 다음 tagged 코퍼스를 다시 불러와서 분석진행"
      ],
      "metadata": {
        "id": "NYohIK99mh4U"
      }
    },
    {
      "cell_type": "code",
      "source": [
        "tagged_brown = ct.tag(ct.ldcorpus(\"brown_single\"))\n",
        "ct.write_corpus(\"tagged_brown_single\",tagged_brown) #the first argument is the folder where the tagged files will be written"
      ],
      "metadata": {
        "id": "FvOgctR5k5Cs"
      },
      "execution_count": null,
      "outputs": []
    },
    {
      "cell_type": "markdown",
      "source": [
        "Another way:Tag 함수를 이용해서 tagged corpus 쓰기 "
      ],
      "metadata": {
        "id": "sJvjmneRlyu1"
      }
    },
    {
      "cell_type": "code",
      "source": [
        "ct.write_corpus(\"tagged_brown_single\",ct.tag(ct.ldcorpus(\"brown_single\")))"
      ],
      "metadata": {
        "id": "MN725bLmmAAH"
      },
      "execution_count": null,
      "outputs": []
    },
    {
      "cell_type": "markdown",
      "source": [
        "reload함수를 이용해서 tagged 코퍼스를 다시 부른 후 > POA 빈도추출"
      ],
      "metadata": {
        "id": "-unve6XCmDab"
      }
    },
    {
      "cell_type": "code",
      "source": [
        "tagged_freq = ct.frequency(ct.reload(\"tagged_brown_single\"))"
      ],
      "metadata": {
        "id": "902dDhzEmXWN"
      },
      "execution_count": null,
      "outputs": []
    },
    {
      "cell_type": "code",
      "source": [
        "ct.head(tagged_freq, hits = 10)"
      ],
      "metadata": {
        "id": "TY551mxRUPEX"
      },
      "execution_count": null,
      "outputs": []
    },
    {
      "cell_type": "markdown",
      "source": [
        "##Collocation"
      ],
      "metadata": {
        "id": "3QJNgB_Wm1cC"
      }
    },
    {
      "cell_type": "code",
      "source": [
        "collocates = ct.collocator(ct.tokenize(ct.ldcorpus(\"brown_single\")),\"go\",stat = \"MI\")\n",
        "#stat options include: \"MI\", \"T\", \"freq\", \"left\", and \"right\""
      ],
      "metadata": {
        "id": "s-HVrRGhm6hS"
      },
      "execution_count": null,
      "outputs": []
    },
    {
      "cell_type": "code",
      "source": [
        "ct.head(collocates, hits = 10)"
      ],
      "metadata": {
        "id": "2T3HYqQdUUbI"
      },
      "execution_count": null,
      "outputs": []
    },
    {
      "cell_type": "markdown",
      "source": [
        "##Keyness"
      ],
      "metadata": {
        "id": "k9aeGQrjnO42"
      }
    },
    {
      "cell_type": "code",
      "source": [
        "#First, generate frequency lists for each corpus\n",
        "corp1freq = ct.frequency(ct.tokenize(ct.ldcorpus(\"corp1\")))\n",
        "corp2freq = ct.frequency(ct.tokenize(ct.ldcorpus(\"corp2\")))\n",
        "\n",
        "#then calculate Keyness\n",
        "corp_key = ct.keyness(corp1freq,corp2freq, effect = \"log-ratio\")\n",
        "ct.head(corp_key, hits = 10) #to display top hits"
      ],
      "metadata": {
        "id": "p8WTdzhmnaL4"
      },
      "execution_count": null,
      "outputs": []
    },
    {
      "cell_type": "markdown",
      "source": [
        "##N-grams"
      ],
      "metadata": {
        "id": "yhrMc8oknneG"
      }
    },
    {
      "cell_type": "code",
      "source": [
        "trigramfreq = ct.frequency(ct.tokenize(ct.ldcorpus(\"brown_single\"),lemma = False, ngram = 3))"
      ],
      "metadata": {
        "id": "2CaKmT-qnqUH"
      },
      "execution_count": null,
      "outputs": []
    },
    {
      "cell_type": "code",
      "source": [
        "ct.head(trigramfreq, hits = 10)"
      ],
      "metadata": {
        "id": "aKJLecHmUZrN"
      },
      "execution_count": null,
      "outputs": []
    },
    {
      "cell_type": "markdown",
      "source": [
        "##Dependency bigrams"
      ],
      "metadata": {
        "id": "SzehKxx4n0Rc"
      }
    },
    {
      "cell_type": "markdown",
      "source": [
        "\"The player kicked the ball\", the main verb kicked is connected to the noun ball via a direct object relationship, wherein kicked is the head and ball is the dependent."
      ],
      "metadata": {
        "id": "14pj_C_0oF0Y"
      }
    },
    {
      "cell_type": "code",
      "source": [
        "bg_dict = ct.dep_bigram(ct.ldcorpus(\"brown_single\"),\"dobj\")"
      ],
      "metadata": {
        "id": "rpJyp0Jgn2Kf"
      },
      "execution_count": null,
      "outputs": []
    },
    {
      "cell_type": "code",
      "source": [
        "ct.head(bg_dict[\"bi_freq\"], hits = 10)\n",
        "#other keys include \"dep_freq\", \"head_freq\", and \"range\"\n",
        "#also note that the key \"samples\" can be used to obtain a list of sample sentences\n",
        "#but, this is not compatible with the ct.head() function (see ct.dep_conc() instead)"
      ],
      "metadata": {
        "id": "GDTiTsPQUejt"
      },
      "execution_count": null,
      "outputs": []
    },
    {
      "cell_type": "markdown",
      "source": [
        "Strength of association"
      ],
      "metadata": {
        "id": "hky_YFZ-ot65"
      }
    },
    {
      "cell_type": "markdown",
      "source": [
        "The soa() function takes a dictionary generated by the dep_bigram() function"
      ],
      "metadata": {
        "id": "x83lEbizozO2"
      }
    },
    {
      "cell_type": "code",
      "source": [
        "soa_mi = ct.soa(bg_dict,stat = \"MI\")\n",
        "#other stat options include: \"T\", \"faith_dep\", \"faith_head\",\"dp_dep\", and \"dp_head\""
      ],
      "metadata": {
        "id": "oYHIETaxovJM"
      },
      "execution_count": null,
      "outputs": []
    },
    {
      "cell_type": "code",
      "source": [
        "ct.head(soa_mi, hits = 10)"
      ],
      "metadata": {
        "id": "6g7XLZ6BUmye"
      },
      "execution_count": null,
      "outputs": []
    },
    {
      "cell_type": "markdown",
      "source": [
        "Concordance lines for dependency bigrams"
      ],
      "metadata": {
        "id": "qnWoTk4apCev"
      }
    },
    {
      "cell_type": "code",
      "source": [
        "ct.dep_conc(bg_dict[\"samples\"],\"dobj_results\")"
      ],
      "metadata": {
        "id": "6lM-s5WUpGgh"
      },
      "execution_count": null,
      "outputs": []
    }
  ]
}