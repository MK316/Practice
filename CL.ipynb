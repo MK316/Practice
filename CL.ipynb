{
  "nbformat": 4,
  "nbformat_minor": 0,
  "metadata": {
    "colab": {
      "name": "CL.ipynb",
      "provenance": [],
      "authorship_tag": "ABX9TyNlgbBza1bkTng1K7vwGvdP",
      "include_colab_link": true
    },
    "kernelspec": {
      "name": "python3",
      "display_name": "Python 3"
    },
    "language_info": {
      "name": "python"
    }
  },
  "cells": [
    {
      "cell_type": "markdown",
      "metadata": {
        "id": "view-in-github",
        "colab_type": "text"
      },
      "source": [
        "<a href=\"https://colab.research.google.com/github/junkyuhufs/Practice/blob/main/CL.ipynb\" target=\"_parent\"><img src=\"https://colab.research.google.com/assets/colab-badge.svg\" alt=\"Open In Colab\"/></a>"
      ]
    },
    {
      "cell_type": "markdown",
      "source": [
        "Corpus Lingusitics Practice\n",
        "Kyle 홈피 \n",
        "### https://github.com/kristopherkyle/corpus_toolkit"
      ],
      "metadata": {
        "id": "rRbdChWnE9Ax"
      }
    },
    {
      "cell_type": "markdown",
      "source": [
        "corpus_toolkit 설치"
      ],
      "metadata": {
        "id": "06_tLviWF2h2"
      }
    },
    {
      "cell_type": "code",
      "execution_count": null,
      "metadata": {
        "id": "cAeL9D2oEyC1"
      },
      "outputs": [],
      "source": [
        "pip install corpus-toolkit"
      ]
    },
    {
      "cell_type": "markdown",
      "source": [
        "Spacy 설치 \n",
        "(corpustoolkit에서 tagging & parsing에 사용)"
      ],
      "metadata": {
        "id": "KvrfoflPGDhu"
      }
    },
    {
      "cell_type": "code",
      "source": [
        "pip install -U spacy\n",
        "python -m spacy download en_core_web_sm"
      ],
      "metadata": {
        "id": "oXrSCd4gGicS"
      },
      "execution_count": null,
      "outputs": []
    },
    {
      "cell_type": "markdown",
      "source": [
        "Brown corpus 올리기"
      ],
      "metadata": {
        "id": "RafeNi0AGlXY"
      }
    }
  ]
}