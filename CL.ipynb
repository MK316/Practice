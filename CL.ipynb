{
  "nbformat": 4,
  "nbformat_minor": 0,
  "metadata": {
    "colab": {
      "name": "CL.ipynb",
      "provenance": [],
      "collapsed_sections": [],
      "mount_file_id": "https://github.com/junkyuhufs/Practice/blob/main/CL.ipynb",
      "authorship_tag": "ABX9TyMRngvTdDKB6+VmLLgbctlU",
      "include_colab_link": true
    },
    "kernelspec": {
      "name": "python3",
      "display_name": "Python 3"
    },
    "language_info": {
      "name": "python"
    },
    "accelerator": "GPU"
  },
  "cells": [
    {
      "cell_type": "markdown",
      "metadata": {
        "id": "view-in-github",
        "colab_type": "text"
      },
      "source": [
        "<a href=\"https://colab.research.google.com/github/junkyuhufs/Practice/blob/main/CL.ipynb\" target=\"_parent\"><img src=\"https://colab.research.google.com/assets/colab-badge.svg\" alt=\"Open In Colab\"/></a>"
      ]
    },
    {
      "cell_type": "markdown",
      "source": [
        "Corpus Lingusitics Practice\n",
        "Kyle 홈피 \n",
        "### https://github.com/kristopherkyle/corpus_toolkit"
      ],
      "metadata": {
        "id": "rRbdChWnE9Ax"
      }
    },
    {
      "cell_type": "markdown",
      "source": [
        "corpus-toolkit설치"
      ],
      "metadata": {
        "id": "A2s801kA0FAZ"
      }
    },
    {
      "cell_type": "code",
      "source": [
        "pip install corpus-toolkit"
      ],
      "metadata": {
        "id": "cB4MCwPf0JIS"
      },
      "execution_count": null,
      "outputs": []
    },
    {
      "cell_type": "markdown",
      "source": [
        "코퍼스 업로드 (구글드라이브 마운트)"
      ],
      "metadata": {
        "id": "O16O_BWv0PEg"
      }
    },
    {
      "cell_type": "code",
      "source": [
        "from google.colab import drive\n",
        "drive.mount('/content/drive')"
      ],
      "metadata": {
        "id": "aM1KZ1H1yHco"
      },
      "execution_count": null,
      "outputs": []
    },
    {
      "cell_type": "markdown",
      "source": [
        "Load, tokenize, and generate a frequency list"
      ],
      "metadata": {
        "id": "rGq8EQVgGNcQ"
      }
    },
    {
      "cell_type": "code",
      "source": [
        "from corpus_toolkit import corpus_tools as ct"
      ],
      "metadata": {
        "id": "oRhGWJCKGUws"
      },
      "execution_count": null,
      "outputs": []
    },
    {
      "cell_type": "code",
      "source": [
        "brown_corp = ct.ldcorpus(\"brown_single\") #load and read corpus\n",
        "tok_corp = ct.tokenize(brown_corp) #tokenize corpus - by default this lemmatizes as well\n",
        "brown_freq = ct.frequency(tok_corp) #creates a frequency dictionary\n",
        "#note that range can be calculated instead of frequency using the argument calc = \"range\"\n",
        "ct.head(brown_freq, hits = 10) #print top 10 items"
      ],
      "metadata": {
        "id": "Tmjr4BfSGqUg"
      },
      "execution_count": null,
      "outputs": []
    }
  ]
}