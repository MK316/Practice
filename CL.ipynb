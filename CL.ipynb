{
  "nbformat": 4,
  "nbformat_minor": 0,
  "metadata": {
    "colab": {
      "name": "CL.ipynb",
      "provenance": [],
      "collapsed_sections": [],
      "authorship_tag": "ABX9TyP6l/KqRAtb0rP1Q3OzHI/q",
      "include_colab_link": true
    },
    "kernelspec": {
      "name": "python3",
      "display_name": "Python 3"
    },
    "language_info": {
      "name": "python"
    }
  },
  "cells": [
    {
      "cell_type": "markdown",
      "metadata": {
        "id": "view-in-github",
        "colab_type": "text"
      },
      "source": [
        "<a href=\"https://colab.research.google.com/github/junkyuhufs/Practice/blob/main/CL.ipynb\" target=\"_parent\"><img src=\"https://colab.research.google.com/assets/colab-badge.svg\" alt=\"Open In Colab\"/></a>"
      ]
    },
    {
      "cell_type": "markdown",
      "source": [
        "Corpus Lingusitics Practice\n",
        "Kyle 홈피 \n",
        "### https://github.com/kristopherkyle/corpus_toolkit"
      ],
      "metadata": {
        "id": "rRbdChWnE9Ax"
      }
    },
    {
      "cell_type": "markdown",
      "source": [
        "corpus_toolkit 설치"
      ],
      "metadata": {
        "id": "06_tLviWF2h2"
      }
    },
    {
      "cell_type": "code",
      "execution_count": null,
      "metadata": {
        "id": "cAeL9D2oEyC1"
      },
      "outputs": [],
      "source": [
        "pip install corpus-toolkit"
      ]
    },
    {
      "cell_type": "markdown",
      "source": [
        "Spacy 설치 \n",
        "(corpustoolkit에서 tagging & parsing에 사용)"
      ],
      "metadata": {
        "id": "KvrfoflPGDhu"
      }
    },
    {
      "cell_type": "code",
      "source": [
        "pip install -U spacy"
      ],
      "metadata": {
        "id": "oXrSCd4gGicS"
      },
      "execution_count": null,
      "outputs": []
    },
    {
      "cell_type": "code",
      "source": [
        "python -m spacy download en_core_web_sm"
      ],
      "metadata": {
        "id": "4eeMqFXvdDMH"
      },
      "execution_count": null,
      "outputs": []
    },
    {
      "cell_type": "markdown",
      "source": [
        "Load, tokenize, and generate a frequency list"
      ],
      "metadata": {
        "id": "rGq8EQVgGNcQ"
      }
    },
    {
      "cell_type": "code",
      "source": [
        "from corpus_toolkit import corpus_tools as ct"
      ],
      "metadata": {
        "id": "oRhGWJCKGUws"
      },
      "execution_count": null,
      "outputs": []
    },
    {
      "cell_type": "code",
      "source": [
        "brown_corp = ct.ldcorpus(\"brown_single\") #load and read corpus\n",
        "tok_corp = ct.tokenize(brown_corp) #tokenize corpus - by default this lemmatizes as well\n",
        "brown_freq = ct.frequency(tok_corp) #creates a frequency dictionary\n",
        "#note that range can be calculated instead of frequency using the argument calc = \"range\"\n",
        "ct.head(brown_freq, hits = 10) #print top 10 items"
      ],
      "metadata": {
        "id": "Tmjr4BfSGqUg"
      },
      "execution_count": null,
      "outputs": []
    }
  ]
}