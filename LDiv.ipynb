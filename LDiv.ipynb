{
  "nbformat": 4,
  "nbformat_minor": 0,
  "metadata": {
    "colab": {
      "name": "LDiv.ipynb",
      "provenance": [],
      "authorship_tag": "ABX9TyM76n3A4I21/S5cmXAEqpWR",
      "include_colab_link": true
    },
    "kernelspec": {
      "name": "python3",
      "display_name": "Python 3"
    },
    "language_info": {
      "name": "python"
    }
  },
  "cells": [
    {
      "cell_type": "markdown",
      "metadata": {
        "id": "view-in-github",
        "colab_type": "text"
      },
      "source": [
        "<a href=\"https://colab.research.google.com/github/junkyuhufs/Practice/blob/main/LDiv.ipynb\" target=\"_parent\"><img src=\"https://colab.research.google.com/assets/colab-badge.svg\" alt=\"Open In Colab\"/></a>"
      ]
    },
    {
      "cell_type": "markdown",
      "source": [
        "## Lexical diversity\n",
        "\n",
        "https://github.com/kristopherkyle/lexical_diversity\n"
      ],
      "metadata": {
        "id": "lVBnu8OuYiDO"
      }
    },
    {
      "cell_type": "markdown",
      "source": [
        "lexical-diversity 라이브러리 설치"
      ],
      "metadata": {
        "id": "Ki4VvCdKYwr1"
      }
    },
    {
      "cell_type": "code",
      "execution_count": null,
      "metadata": {
        "id": "BocV0bKFYVoi"
      },
      "outputs": [],
      "source": [
        "pip install lexical-diversity"
      ]
    },
    {
      "cell_type": "markdown",
      "source": [
        "LD 올리기"
      ],
      "metadata": {
        "id": "mAc39kzzY93b"
      }
    },
    {
      "cell_type": "code",
      "source": [
        "from lexical_diversity import lex_div as ld"
      ],
      "metadata": {
        "id": "UC4-8tn3ZDpJ"
      },
      "execution_count": null,
      "outputs": []
    },
    {
      "cell_type": "markdown",
      "source": [
        "##전처리하기"
      ],
      "metadata": {
        "id": "Es5bev7fZMDa"
      }
    },
    {
      "cell_type": "markdown",
      "source": [
        "문장삽입"
      ],
      "metadata": {
        "id": "1c5QLLByZl18"
      }
    },
    {
      "cell_type": "code",
      "source": [
        "text = \"\"\"The state was named for the Colorado River, which Spanish travelers named the Río Colorado for the ruddy silt the river carried from the mountains. The Territory of Colorado was organized on February 28, 1861, and on August 1, 1876, U.S. President Ulysses S. Grant signed Proclamation 230 admitting Colorado to the Union as the 38th state. Colorado is nicknamed the \"Centennial State\" because it became a state a century after the signing of the United States Declaration of Independence. Colorado is bordered by Wyoming to the north, Nebraska to the northeast, Kansas to the east, Oklahoma to the southeast, New Mexico to the south, Utah to the west, and touches Arizona to the southwest at the Four Corners. Colorado is noted for its vivid landscape of mountains, forests, high plains, mesas, canyons, plateaus, rivers, and desert lands. Colorado is part of the western or southwestern United States, and one of the Mountain States. Denver is the capital and most populous city of Colorado. Residents of the state are known as Coloradans, although the antiquated term \"Coloradoan\" is occasionally used.\"\"\"\n"
      ],
      "metadata": {
        "id": "ur2XKeprZW_6"
      },
      "execution_count": null,
      "outputs": []
    },
    {
      "cell_type": "markdown",
      "source": [
        "토큰화하기"
      ],
      "metadata": {
        "id": "R8vzuPSXZzYG"
      }
    },
    {
      "cell_type": "code",
      "source": [
        "tok = ld.tokenize(text)"
      ],
      "metadata": {
        "id": "bdDWXKWuZdUs"
      },
      "execution_count": null,
      "outputs": []
    },
    {
      "cell_type": "code",
      "source": [
        "print(tok[:10])"
      ],
      "metadata": {
        "id": "X-MV8NlqZg_Q"
      },
      "execution_count": null,
      "outputs": []
    },
    {
      "cell_type": "markdown",
      "source": [
        "lemmatization"
      ],
      "metadata": {
        "id": "ISA5PZfHZ7Cx"
      }
    },
    {
      "cell_type": "code",
      "source": [
        "flt = ld.flemmatize(text)"
      ],
      "metadata": {
        "id": "A-txcTJAZ_E7"
      },
      "execution_count": null,
      "outputs": []
    },
    {
      "cell_type": "code",
      "source": [
        "print(flt[:10])"
      ],
      "metadata": {
        "id": "EgoC50ppaFIJ"
      },
      "execution_count": null,
      "outputs": []
    },
    {
      "cell_type": "markdown",
      "source": [
        "##Lexical diversity 계산"
      ],
      "metadata": {
        "id": "v2qDmxLeaIaK"
      }
    },
    {
      "cell_type": "markdown",
      "source": [
        "Simple TTR"
      ],
      "metadata": {
        "id": "kzD_l_rRaOPP"
      }
    },
    {
      "cell_type": "code",
      "source": [
        "ld.ttr(flt)"
      ],
      "metadata": {
        "id": "MyPyaubSaVWq"
      },
      "execution_count": null,
      "outputs": []
    },
    {
      "cell_type": "markdown",
      "source": [
        "Root TTR"
      ],
      "metadata": {
        "id": "9AKiEwj_abS3"
      }
    },
    {
      "cell_type": "code",
      "source": [
        "ld.root_ttr(flt)"
      ],
      "metadata": {
        "id": "n6uVNCOIaeF-"
      },
      "execution_count": null,
      "outputs": []
    },
    {
      "cell_type": "markdown",
      "source": [
        "Log TTR"
      ],
      "metadata": {
        "id": "gR5YSV3uah4Q"
      }
    },
    {
      "cell_type": "code",
      "source": [
        "ld.log_ttr(flt)"
      ],
      "metadata": {
        "id": "lnBbYWx1akqQ"
      },
      "execution_count": null,
      "outputs": []
    },
    {
      "cell_type": "markdown",
      "source": [
        "Mass TTR"
      ],
      "metadata": {
        "id": "TqVcXiwoaoSq"
      }
    },
    {
      "cell_type": "code",
      "source": [
        "ld.maas_ttr(flt)"
      ],
      "metadata": {
        "id": "yruc13z_arI-"
      },
      "execution_count": null,
      "outputs": []
    },
    {
      "cell_type": "markdown",
      "source": [
        "Mean segmental TTR (MSTTR) >> 50단어 default"
      ],
      "metadata": {
        "id": "LNhpKauha004"
      }
    },
    {
      "cell_type": "code",
      "source": [
        "ld.msttr(flt)"
      ],
      "metadata": {
        "id": "OSkJi6Zva8Ad"
      },
      "execution_count": null,
      "outputs": []
    },
    {
      "cell_type": "markdown",
      "source": [
        "Mean segmental TTR (MSTTR) >> 단어수조정가능 (25단어의 경우)"
      ],
      "metadata": {
        "id": "KPOjEUJva_ZL"
      }
    },
    {
      "cell_type": "code",
      "source": [
        "ld.msttr(flt,window_length=25)"
      ],
      "metadata": {
        "id": "FcIPFgNYbIw_"
      },
      "execution_count": null,
      "outputs": []
    },
    {
      "cell_type": "markdown",
      "source": [
        "Moving average TTR (MATTR) >> 50단어 default"
      ],
      "metadata": {
        "id": "o4cygZdtbMHw"
      }
    },
    {
      "cell_type": "code",
      "source": [
        "ld.mattr(flt)"
      ],
      "metadata": {
        "id": "bnqY7tr1bVLc"
      },
      "execution_count": null,
      "outputs": []
    },
    {
      "cell_type": "markdown",
      "source": [
        "Moving average TTR (MATTR) >> 단어수 조정 (25단어의 경우)"
      ],
      "metadata": {
        "id": "zmc5eyI_bY8n"
      }
    },
    {
      "cell_type": "code",
      "source": [
        "ld.mattr(flt,window_length=25)"
      ],
      "metadata": {
        "id": "4yJB-Auhbf9s"
      },
      "execution_count": null,
      "outputs": []
    },
    {
      "cell_type": "markdown",
      "source": [
        "Hypergeometric distribution D (HDD)"
      ],
      "metadata": {
        "id": "wZzubEgQbkqG"
      }
    },
    {
      "cell_type": "code",
      "source": [
        "ld.hdd(flt)"
      ],
      "metadata": {
        "id": "_HmGH2FGbpul"
      },
      "execution_count": null,
      "outputs": []
    },
    {
      "cell_type": "markdown",
      "source": [
        "Measure of lexical textual diversity (MTLD); McCarthy and Jarvis (2010)"
      ],
      "metadata": {
        "id": "ODxoDusHbtJk"
      }
    },
    {
      "cell_type": "code",
      "source": [
        "ld.mtld(flt)"
      ],
      "metadata": {
        "id": "GRMfUuGGb42b"
      },
      "execution_count": null,
      "outputs": []
    },
    {
      "cell_type": "markdown",
      "source": [
        "Measure of lexical textual diversity (moving average, wrap)"
      ],
      "metadata": {
        "id": "v0z-yHYrb7sp"
      }
    },
    {
      "cell_type": "code",
      "source": [
        "ld.mtld_ma_wrap(flt)"
      ],
      "metadata": {
        "id": "WpjODsSdcAKq"
      },
      "execution_count": null,
      "outputs": []
    },
    {
      "cell_type": "markdown",
      "source": [
        "Measure of lexical textual diversity (moving average, bi-directional)"
      ],
      "metadata": {
        "id": "2jEpUy1AcFyk"
      }
    },
    {
      "cell_type": "code",
      "source": [
        "ld.mtld_ma_bid(flt)"
      ],
      "metadata": {
        "id": "7CDqGu6ccHY6"
      },
      "execution_count": null,
      "outputs": []
    }
  ]
}